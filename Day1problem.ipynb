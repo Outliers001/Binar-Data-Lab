{
 "cells": [
  {
   "cell_type": "markdown",
   "metadata": {},
   "source": [
    "### Copyright @ Md. Shakil Sikder Shawon 2019\n",
    "#### Department of Statistics, BSMRSTU"
   ]
  },
  {
   "cell_type": "markdown",
   "metadata": {},
   "source": [
    "#### @Binary Data Lab \n",
    "##### 1st Workshop's solution"
   ]
  },
  {
   "cell_type": "markdown",
   "metadata": {},
   "source": [
    "## Problem Description"
   ]
  },
  {
   "cell_type": "markdown",
   "metadata": {},
   "source": [
    "The data of this exercise were gathered as part of a study to estimate the population size of the bowhead whale (Raftery and Zeh 1993). The statistical procedures for estimating the population size along with an assessment of the variability of the estimate were quite involved, and this problem deals with only one aspect of the problem - a study of the distributino of whale swimming speeds.\n",
    "\n",
    "Pairs of sightings and corresponding locations that could be reliably attributed to the same whale were collected, thus providing an estimate of velocity for each whale. The velocities, v1, v2, ..., v210 (km/h), were converted into times t1, t2, ..., t210 to swim 1 km-t(i) = 1/v(i). The distribution of the ti was then fit by a gamma distribution. The times are contained in the file whales.\n",
    "##### -----------------------------------------------------------------------------------------------------------------------------------------------------------------\n",
    "\n",
    "### a. Make a hitogram of the 210 values of ti. Does it appear that a gamma distrubition would be a plausible model to fit?\n",
    "\n",
    "### b. Fit the parameters of the gamma distribution by the method of moments.\n",
    "\n",
    "### c. Fit the parameters of the gamma distribution by maximum likelihood. How do these values compare to those found before?\n",
    "\n",
    "### d. Plot the two gamma densities on top of the histogram. Do the fits look reasonable?\n",
    "\n",
    "### e. Estimate the sampling distributions and the standard errors of the parameters fit by the method of moments by using the bootstrap.\n",
    "\n",
    "### f. Estimate the sampling distributions and the standard errors of the parameters fit by maximum likelihood by using the bootsrap. How do they compare to the results found previously?\n",
    "\n"
   ]
  },
  {
   "cell_type": "markdown",
   "metadata": {},
   "source": [
    "####    --------------------------------------------------------------------------------------------------------------------------------------------------"
   ]
  },
  {
   "cell_type": "markdown",
   "metadata": {},
   "source": [
    "## Solution \n",
    "### (a) Make a hitogram of the 210 values of ti. Does it appear that a gamma distrubition would be a plausible model to fit?"
   ]
  },
  {
   "cell_type": "markdown",
   "metadata": {},
   "source": [
    "#### Setting working directory"
   ]
  },
  {
   "cell_type": "code",
   "execution_count": 1,
   "metadata": {},
   "outputs": [
    {
     "data": {
      "text/html": [
       "'/Users/san'"
      ],
      "text/latex": [
       "'/Users/san'"
      ],
      "text/markdown": [
       "'/Users/san'"
      ],
      "text/plain": [
       "[1] \"/Users/san\""
      ]
     },
     "metadata": {},
     "output_type": "display_data"
    }
   ],
   "source": [
    "getwd()"
   ]
  },
  {
   "cell_type": "code",
   "execution_count": 2,
   "metadata": {},
   "outputs": [],
   "source": [
    "setwd('/Users/san/Desktop/R/workshop/')"
   ]
  },
  {
   "cell_type": "code",
   "execution_count": 3,
   "metadata": {},
   "outputs": [
    {
     "data": {
      "text/html": [
       "'/Users/san/Desktop/R/workshop'"
      ],
      "text/latex": [
       "'/Users/san/Desktop/R/workshop'"
      ],
      "text/markdown": [
       "'/Users/san/Desktop/R/workshop'"
      ],
      "text/plain": [
       "[1] \"/Users/san/Desktop/R/workshop\""
      ]
     },
     "metadata": {},
     "output_type": "display_data"
    }
   ],
   "source": [
    "getwd()"
   ]
  },
  {
   "cell_type": "markdown",
   "metadata": {},
   "source": [
    "#### Loading Data"
   ]
  },
  {
   "cell_type": "code",
   "execution_count": 4,
   "metadata": {},
   "outputs": [],
   "source": [
    "data = read.table('whales.txt')"
   ]
  },
  {
   "cell_type": "code",
   "execution_count": 5,
   "metadata": {},
   "outputs": [
    {
     "data": {
      "text/html": [
       "<table>\n",
       "<thead><tr><th scope=col>V1</th></tr></thead>\n",
       "<tbody>\n",
       "\t<tr><td>0.2252</td></tr>\n",
       "\t<tr><td>0.7194</td></tr>\n",
       "\t<tr><td>0.1642</td></tr>\n",
       "\t<tr><td>0.2398</td></tr>\n",
       "\t<tr><td>0.1880</td></tr>\n",
       "\t<tr><td>0.2123</td></tr>\n",
       "</tbody>\n",
       "</table>\n"
      ],
      "text/latex": [
       "\\begin{tabular}{r|l}\n",
       " V1\\\\\n",
       "\\hline\n",
       "\t 0.2252\\\\\n",
       "\t 0.7194\\\\\n",
       "\t 0.1642\\\\\n",
       "\t 0.2398\\\\\n",
       "\t 0.1880\\\\\n",
       "\t 0.2123\\\\\n",
       "\\end{tabular}\n"
      ],
      "text/markdown": [
       "\n",
       "| V1 |\n",
       "|---|\n",
       "| 0.2252 |\n",
       "| 0.7194 |\n",
       "| 0.1642 |\n",
       "| 0.2398 |\n",
       "| 0.1880 |\n",
       "| 0.2123 |\n",
       "\n"
      ],
      "text/plain": [
       "  V1    \n",
       "1 0.2252\n",
       "2 0.7194\n",
       "3 0.1642\n",
       "4 0.2398\n",
       "5 0.1880\n",
       "6 0.2123"
      ]
     },
     "metadata": {},
     "output_type": "display_data"
    }
   ],
   "source": [
    "head(data)"
   ]
  },
  {
   "cell_type": "code",
   "execution_count": 6,
   "metadata": {},
   "outputs": [
    {
     "data": {
      "text/html": [
       "<ol class=list-inline>\n",
       "\t<li>0.2252</li>\n",
       "\t<li>0.7194</li>\n",
       "\t<li>0.1642</li>\n",
       "\t<li>0.2398</li>\n",
       "\t<li>0.188</li>\n",
       "\t<li>0.2123</li>\n",
       "\t<li>0.1337</li>\n",
       "\t<li>0.3401</li>\n",
       "\t<li>0.4762</li>\n",
       "\t<li>0.2028</li>\n",
       "\t<li>0.7407</li>\n",
       "\t<li>0.3571</li>\n",
       "\t<li>0.3968</li>\n",
       "\t<li>0.6803</li>\n",
       "\t<li>0.4049</li>\n",
       "\t<li>0.2169</li>\n",
       "\t<li>1.7241</li>\n",
       "\t<li>2.6316</li>\n",
       "\t<li>0.271</li>\n",
       "\t<li>0.3571</li>\n",
       "\t<li>0.2825</li>\n",
       "\t<li>0.4587</li>\n",
       "\t<li>2.8571</li>\n",
       "\t<li>1.3699</li>\n",
       "\t<li>0.3731</li>\n",
       "\t<li>1.4925</li>\n",
       "\t<li>0.5988</li>\n",
       "\t<li>0.4167</li>\n",
       "\t<li>3.2258</li>\n",
       "\t<li>0.7246</li>\n",
       "\t<li>1.1494</li>\n",
       "\t<li>1.0101</li>\n",
       "\t<li>0.5405</li>\n",
       "\t<li>0.4237</li>\n",
       "\t<li>0.3367</li>\n",
       "\t<li>2.2727</li>\n",
       "\t<li>0.5128</li>\n",
       "\t<li>0.3584</li>\n",
       "\t<li>0.4464</li>\n",
       "\t<li>0.5882</li>\n",
       "\t<li>0.4367</li>\n",
       "\t<li>0.5556</li>\n",
       "\t<li>0.7463</li>\n",
       "\t<li>0.4032</li>\n",
       "\t<li>1.8182</li>\n",
       "\t<li>0.3165</li>\n",
       "\t<li>0.4049</li>\n",
       "\t<li>0.2786</li>\n",
       "\t<li>0.6667</li>\n",
       "\t<li>0.6369</li>\n",
       "\t<li>0.346</li>\n",
       "\t<li>0.5076</li>\n",
       "\t<li>0.3584</li>\n",
       "\t<li>0.6369</li>\n",
       "\t<li>0.3559</li>\n",
       "\t<li>0.3021</li>\n",
       "\t<li>0.3311</li>\n",
       "\t<li>0.3086</li>\n",
       "\t<li>1.0638</li>\n",
       "\t<li>0.3155</li>\n",
       "\t<li>1.7241</li>\n",
       "\t<li>0.2273</li>\n",
       "\t<li>1.3158</li>\n",
       "\t<li>0.4525</li>\n",
       "\t<li>2.2222</li>\n",
       "\t<li>0.5181</li>\n",
       "\t<li>0.2141</li>\n",
       "\t<li>0.9346</li>\n",
       "\t<li>0.9434</li>\n",
       "\t<li>0.3802</li>\n",
       "\t<li>0.5882</li>\n",
       "\t<li>0.5208</li>\n",
       "\t<li>0.7519</li>\n",
       "\t<li>0.3448</li>\n",
       "\t<li>1.7857</li>\n",
       "\t<li>1.5152</li>\n",
       "\t<li>0.4386</li>\n",
       "\t<li>0.3484</li>\n",
       "\t<li>0.2865</li>\n",
       "\t<li>2.5641</li>\n",
       "\t<li>0.3448</li>\n",
       "\t<li>0.4566</li>\n",
       "\t<li>1.4286</li>\n",
       "\t<li>0.3145</li>\n",
       "\t<li>0.2079</li>\n",
       "\t<li>0.2342</li>\n",
       "\t<li>0.2016</li>\n",
       "\t<li>0.1451</li>\n",
       "\t<li>0.3086</li>\n",
       "\t<li>0.3636</li>\n",
       "\t<li>0.3984</li>\n",
       "\t<li>1.7857</li>\n",
       "\t<li>1.1494</li>\n",
       "\t<li>0.2525</li>\n",
       "\t<li>0.3497</li>\n",
       "\t<li>0.641</li>\n",
       "\t<li>0.4132</li>\n",
       "\t<li>0.2179</li>\n",
       "\t<li>0.2538</li>\n",
       "\t<li>0.3012</li>\n",
       "\t<li>1.087</li>\n",
       "\t<li>1.0204</li>\n",
       "\t<li>0.3436</li>\n",
       "\t<li>0.4717</li>\n",
       "\t<li>0.3003</li>\n",
       "\t<li>0.3289</li>\n",
       "\t<li>0.2915</li>\n",
       "\t<li>0.3731</li>\n",
       "\t<li>0.7407</li>\n",
       "\t<li>0.8696</li>\n",
       "\t<li>2.0408</li>\n",
       "\t<li>0.4505</li>\n",
       "\t<li>3.7037</li>\n",
       "\t<li>0.3268</li>\n",
       "\t<li>0.4292</li>\n",
       "\t<li>0.3623</li>\n",
       "\t<li>0.2016</li>\n",
       "\t<li>1.1364</li>\n",
       "\t<li>0.2119</li>\n",
       "\t<li>1.4925</li>\n",
       "\t<li>0.2551</li>\n",
       "\t<li>0.3003</li>\n",
       "\t<li>0.2252</li>\n",
       "\t<li>0.8696</li>\n",
       "\t<li>0.1718</li>\n",
       "\t<li>0.2959</li>\n",
       "\t<li>0.2347</li>\n",
       "\t<li>0.3268</li>\n",
       "\t<li>0.3497</li>\n",
       "\t<li>0.2364</li>\n",
       "\t<li>0.3623</li>\n",
       "\t<li>0.1776</li>\n",
       "\t<li>0.2203</li>\n",
       "\t<li>0.2222</li>\n",
       "\t<li>0.3106</li>\n",
       "\t<li>0.1475</li>\n",
       "\t<li>0.2899</li>\n",
       "\t<li>0.2096</li>\n",
       "\t<li>0.1466</li>\n",
       "\t<li>0.2404</li>\n",
       "\t<li>0.2273</li>\n",
       "\t<li>0.3367</li>\n",
       "\t<li>0.2188</li>\n",
       "\t<li>0.1912</li>\n",
       "\t<li>0.5405</li>\n",
       "\t<li>0.3636</li>\n",
       "\t<li>0.2494</li>\n",
       "\t<li>0.3448</li>\n",
       "\t<li>0.2128</li>\n",
       "\t<li>0.2907</li>\n",
       "\t<li>0.4219</li>\n",
       "\t<li>4</li>\n",
       "\t<li>0.289</li>\n",
       "\t<li>0.1984</li>\n",
       "\t<li>0.3311</li>\n",
       "\t<li>0.2571</li>\n",
       "\t<li>0.3106</li>\n",
       "\t<li>0.2179</li>\n",
       "\t<li>0.3344</li>\n",
       "\t<li>0.5917</li>\n",
       "\t<li>0.2415</li>\n",
       "\t<li>1.2987</li>\n",
       "\t<li>1.2658</li>\n",
       "\t<li>0.2421</li>\n",
       "\t<li>0.2353</li>\n",
       "\t<li>1.1494</li>\n",
       "\t<li>0.1724</li>\n",
       "\t<li>0.2778</li>\n",
       "\t<li>0.1686</li>\n",
       "\t<li>0.202</li>\n",
       "\t<li>1.1905</li>\n",
       "\t<li>0.2053</li>\n",
       "\t<li>0.2146</li>\n",
       "\t<li>0.3636</li>\n",
       "\t<li>0.232</li>\n",
       "\t<li>0.2959</li>\n",
       "\t<li>0.463</li>\n",
       "\t<li>0.3521</li>\n",
       "\t<li>0.4065</li>\n",
       "\t<li>0.2841</li>\n",
       "\t<li>0.3817</li>\n",
       "\t<li>0.3497</li>\n",
       "\t<li>0.3021</li>\n",
       "\t<li>0.3268</li>\n",
       "\t<li>0.2151</li>\n",
       "\t<li>0.369</li>\n",
       "\t<li>2.5</li>\n",
       "\t<li>1.5625</li>\n",
       "\t<li>4.3478</li>\n",
       "\t<li>0.1337</li>\n",
       "\t<li>0.1667</li>\n",
       "\t<li>0.7576</li>\n",
       "\t<li>0.2525</li>\n",
       "\t<li>0.1675</li>\n",
       "\t<li>0.2538</li>\n",
       "\t<li>0.1812</li>\n",
       "\t<li>0.1828</li>\n",
       "\t<li>0.3058</li>\n",
       "\t<li>0.3185</li>\n",
       "\t<li>0.6135</li>\n",
       "\t<li>0.2283</li>\n",
       "\t<li>0.3802</li>\n",
       "\t<li>0.4587</li>\n",
       "\t<li>0.4785</li>\n",
       "\t<li>0.346</li>\n",
       "\t<li>0.4065</li>\n",
       "\t<li>0.5618</li>\n",
       "\t<li>0.4274</li>\n",
       "\t<li>0.3279</li>\n",
       "\t<li>0.237</li>\n",
       "</ol>\n"
      ],
      "text/latex": [
       "\\begin{enumerate*}\n",
       "\\item 0.2252\n",
       "\\item 0.7194\n",
       "\\item 0.1642\n",
       "\\item 0.2398\n",
       "\\item 0.188\n",
       "\\item 0.2123\n",
       "\\item 0.1337\n",
       "\\item 0.3401\n",
       "\\item 0.4762\n",
       "\\item 0.2028\n",
       "\\item 0.7407\n",
       "\\item 0.3571\n",
       "\\item 0.3968\n",
       "\\item 0.6803\n",
       "\\item 0.4049\n",
       "\\item 0.2169\n",
       "\\item 1.7241\n",
       "\\item 2.6316\n",
       "\\item 0.271\n",
       "\\item 0.3571\n",
       "\\item 0.2825\n",
       "\\item 0.4587\n",
       "\\item 2.8571\n",
       "\\item 1.3699\n",
       "\\item 0.3731\n",
       "\\item 1.4925\n",
       "\\item 0.5988\n",
       "\\item 0.4167\n",
       "\\item 3.2258\n",
       "\\item 0.7246\n",
       "\\item 1.1494\n",
       "\\item 1.0101\n",
       "\\item 0.5405\n",
       "\\item 0.4237\n",
       "\\item 0.3367\n",
       "\\item 2.2727\n",
       "\\item 0.5128\n",
       "\\item 0.3584\n",
       "\\item 0.4464\n",
       "\\item 0.5882\n",
       "\\item 0.4367\n",
       "\\item 0.5556\n",
       "\\item 0.7463\n",
       "\\item 0.4032\n",
       "\\item 1.8182\n",
       "\\item 0.3165\n",
       "\\item 0.4049\n",
       "\\item 0.2786\n",
       "\\item 0.6667\n",
       "\\item 0.6369\n",
       "\\item 0.346\n",
       "\\item 0.5076\n",
       "\\item 0.3584\n",
       "\\item 0.6369\n",
       "\\item 0.3559\n",
       "\\item 0.3021\n",
       "\\item 0.3311\n",
       "\\item 0.3086\n",
       "\\item 1.0638\n",
       "\\item 0.3155\n",
       "\\item 1.7241\n",
       "\\item 0.2273\n",
       "\\item 1.3158\n",
       "\\item 0.4525\n",
       "\\item 2.2222\n",
       "\\item 0.5181\n",
       "\\item 0.2141\n",
       "\\item 0.9346\n",
       "\\item 0.9434\n",
       "\\item 0.3802\n",
       "\\item 0.5882\n",
       "\\item 0.5208\n",
       "\\item 0.7519\n",
       "\\item 0.3448\n",
       "\\item 1.7857\n",
       "\\item 1.5152\n",
       "\\item 0.4386\n",
       "\\item 0.3484\n",
       "\\item 0.2865\n",
       "\\item 2.5641\n",
       "\\item 0.3448\n",
       "\\item 0.4566\n",
       "\\item 1.4286\n",
       "\\item 0.3145\n",
       "\\item 0.2079\n",
       "\\item 0.2342\n",
       "\\item 0.2016\n",
       "\\item 0.1451\n",
       "\\item 0.3086\n",
       "\\item 0.3636\n",
       "\\item 0.3984\n",
       "\\item 1.7857\n",
       "\\item 1.1494\n",
       "\\item 0.2525\n",
       "\\item 0.3497\n",
       "\\item 0.641\n",
       "\\item 0.4132\n",
       "\\item 0.2179\n",
       "\\item 0.2538\n",
       "\\item 0.3012\n",
       "\\item 1.087\n",
       "\\item 1.0204\n",
       "\\item 0.3436\n",
       "\\item 0.4717\n",
       "\\item 0.3003\n",
       "\\item 0.3289\n",
       "\\item 0.2915\n",
       "\\item 0.3731\n",
       "\\item 0.7407\n",
       "\\item 0.8696\n",
       "\\item 2.0408\n",
       "\\item 0.4505\n",
       "\\item 3.7037\n",
       "\\item 0.3268\n",
       "\\item 0.4292\n",
       "\\item 0.3623\n",
       "\\item 0.2016\n",
       "\\item 1.1364\n",
       "\\item 0.2119\n",
       "\\item 1.4925\n",
       "\\item 0.2551\n",
       "\\item 0.3003\n",
       "\\item 0.2252\n",
       "\\item 0.8696\n",
       "\\item 0.1718\n",
       "\\item 0.2959\n",
       "\\item 0.2347\n",
       "\\item 0.3268\n",
       "\\item 0.3497\n",
       "\\item 0.2364\n",
       "\\item 0.3623\n",
       "\\item 0.1776\n",
       "\\item 0.2203\n",
       "\\item 0.2222\n",
       "\\item 0.3106\n",
       "\\item 0.1475\n",
       "\\item 0.2899\n",
       "\\item 0.2096\n",
       "\\item 0.1466\n",
       "\\item 0.2404\n",
       "\\item 0.2273\n",
       "\\item 0.3367\n",
       "\\item 0.2188\n",
       "\\item 0.1912\n",
       "\\item 0.5405\n",
       "\\item 0.3636\n",
       "\\item 0.2494\n",
       "\\item 0.3448\n",
       "\\item 0.2128\n",
       "\\item 0.2907\n",
       "\\item 0.4219\n",
       "\\item 4\n",
       "\\item 0.289\n",
       "\\item 0.1984\n",
       "\\item 0.3311\n",
       "\\item 0.2571\n",
       "\\item 0.3106\n",
       "\\item 0.2179\n",
       "\\item 0.3344\n",
       "\\item 0.5917\n",
       "\\item 0.2415\n",
       "\\item 1.2987\n",
       "\\item 1.2658\n",
       "\\item 0.2421\n",
       "\\item 0.2353\n",
       "\\item 1.1494\n",
       "\\item 0.1724\n",
       "\\item 0.2778\n",
       "\\item 0.1686\n",
       "\\item 0.202\n",
       "\\item 1.1905\n",
       "\\item 0.2053\n",
       "\\item 0.2146\n",
       "\\item 0.3636\n",
       "\\item 0.232\n",
       "\\item 0.2959\n",
       "\\item 0.463\n",
       "\\item 0.3521\n",
       "\\item 0.4065\n",
       "\\item 0.2841\n",
       "\\item 0.3817\n",
       "\\item 0.3497\n",
       "\\item 0.3021\n",
       "\\item 0.3268\n",
       "\\item 0.2151\n",
       "\\item 0.369\n",
       "\\item 2.5\n",
       "\\item 1.5625\n",
       "\\item 4.3478\n",
       "\\item 0.1337\n",
       "\\item 0.1667\n",
       "\\item 0.7576\n",
       "\\item 0.2525\n",
       "\\item 0.1675\n",
       "\\item 0.2538\n",
       "\\item 0.1812\n",
       "\\item 0.1828\n",
       "\\item 0.3058\n",
       "\\item 0.3185\n",
       "\\item 0.6135\n",
       "\\item 0.2283\n",
       "\\item 0.3802\n",
       "\\item 0.4587\n",
       "\\item 0.4785\n",
       "\\item 0.346\n",
       "\\item 0.4065\n",
       "\\item 0.5618\n",
       "\\item 0.4274\n",
       "\\item 0.3279\n",
       "\\item 0.237\n",
       "\\end{enumerate*}\n"
      ],
      "text/markdown": [
       "1. 0.2252\n",
       "2. 0.7194\n",
       "3. 0.1642\n",
       "4. 0.2398\n",
       "5. 0.188\n",
       "6. 0.2123\n",
       "7. 0.1337\n",
       "8. 0.3401\n",
       "9. 0.4762\n",
       "10. 0.2028\n",
       "11. 0.7407\n",
       "12. 0.3571\n",
       "13. 0.3968\n",
       "14. 0.6803\n",
       "15. 0.4049\n",
       "16. 0.2169\n",
       "17. 1.7241\n",
       "18. 2.6316\n",
       "19. 0.271\n",
       "20. 0.3571\n",
       "21. 0.2825\n",
       "22. 0.4587\n",
       "23. 2.8571\n",
       "24. 1.3699\n",
       "25. 0.3731\n",
       "26. 1.4925\n",
       "27. 0.5988\n",
       "28. 0.4167\n",
       "29. 3.2258\n",
       "30. 0.7246\n",
       "31. 1.1494\n",
       "32. 1.0101\n",
       "33. 0.5405\n",
       "34. 0.4237\n",
       "35. 0.3367\n",
       "36. 2.2727\n",
       "37. 0.5128\n",
       "38. 0.3584\n",
       "39. 0.4464\n",
       "40. 0.5882\n",
       "41. 0.4367\n",
       "42. 0.5556\n",
       "43. 0.7463\n",
       "44. 0.4032\n",
       "45. 1.8182\n",
       "46. 0.3165\n",
       "47. 0.4049\n",
       "48. 0.2786\n",
       "49. 0.6667\n",
       "50. 0.6369\n",
       "51. 0.346\n",
       "52. 0.5076\n",
       "53. 0.3584\n",
       "54. 0.6369\n",
       "55. 0.3559\n",
       "56. 0.3021\n",
       "57. 0.3311\n",
       "58. 0.3086\n",
       "59. 1.0638\n",
       "60. 0.3155\n",
       "61. 1.7241\n",
       "62. 0.2273\n",
       "63. 1.3158\n",
       "64. 0.4525\n",
       "65. 2.2222\n",
       "66. 0.5181\n",
       "67. 0.2141\n",
       "68. 0.9346\n",
       "69. 0.9434\n",
       "70. 0.3802\n",
       "71. 0.5882\n",
       "72. 0.5208\n",
       "73. 0.7519\n",
       "74. 0.3448\n",
       "75. 1.7857\n",
       "76. 1.5152\n",
       "77. 0.4386\n",
       "78. 0.3484\n",
       "79. 0.2865\n",
       "80. 2.5641\n",
       "81. 0.3448\n",
       "82. 0.4566\n",
       "83. 1.4286\n",
       "84. 0.3145\n",
       "85. 0.2079\n",
       "86. 0.2342\n",
       "87. 0.2016\n",
       "88. 0.1451\n",
       "89. 0.3086\n",
       "90. 0.3636\n",
       "91. 0.3984\n",
       "92. 1.7857\n",
       "93. 1.1494\n",
       "94. 0.2525\n",
       "95. 0.3497\n",
       "96. 0.641\n",
       "97. 0.4132\n",
       "98. 0.2179\n",
       "99. 0.2538\n",
       "100. 0.3012\n",
       "101. 1.087\n",
       "102. 1.0204\n",
       "103. 0.3436\n",
       "104. 0.4717\n",
       "105. 0.3003\n",
       "106. 0.3289\n",
       "107. 0.2915\n",
       "108. 0.3731\n",
       "109. 0.7407\n",
       "110. 0.8696\n",
       "111. 2.0408\n",
       "112. 0.4505\n",
       "113. 3.7037\n",
       "114. 0.3268\n",
       "115. 0.4292\n",
       "116. 0.3623\n",
       "117. 0.2016\n",
       "118. 1.1364\n",
       "119. 0.2119\n",
       "120. 1.4925\n",
       "121. 0.2551\n",
       "122. 0.3003\n",
       "123. 0.2252\n",
       "124. 0.8696\n",
       "125. 0.1718\n",
       "126. 0.2959\n",
       "127. 0.2347\n",
       "128. 0.3268\n",
       "129. 0.3497\n",
       "130. 0.2364\n",
       "131. 0.3623\n",
       "132. 0.1776\n",
       "133. 0.2203\n",
       "134. 0.2222\n",
       "135. 0.3106\n",
       "136. 0.1475\n",
       "137. 0.2899\n",
       "138. 0.2096\n",
       "139. 0.1466\n",
       "140. 0.2404\n",
       "141. 0.2273\n",
       "142. 0.3367\n",
       "143. 0.2188\n",
       "144. 0.1912\n",
       "145. 0.5405\n",
       "146. 0.3636\n",
       "147. 0.2494\n",
       "148. 0.3448\n",
       "149. 0.2128\n",
       "150. 0.2907\n",
       "151. 0.4219\n",
       "152. 4\n",
       "153. 0.289\n",
       "154. 0.1984\n",
       "155. 0.3311\n",
       "156. 0.2571\n",
       "157. 0.3106\n",
       "158. 0.2179\n",
       "159. 0.3344\n",
       "160. 0.5917\n",
       "161. 0.2415\n",
       "162. 1.2987\n",
       "163. 1.2658\n",
       "164. 0.2421\n",
       "165. 0.2353\n",
       "166. 1.1494\n",
       "167. 0.1724\n",
       "168. 0.2778\n",
       "169. 0.1686\n",
       "170. 0.202\n",
       "171. 1.1905\n",
       "172. 0.2053\n",
       "173. 0.2146\n",
       "174. 0.3636\n",
       "175. 0.232\n",
       "176. 0.2959\n",
       "177. 0.463\n",
       "178. 0.3521\n",
       "179. 0.4065\n",
       "180. 0.2841\n",
       "181. 0.3817\n",
       "182. 0.3497\n",
       "183. 0.3021\n",
       "184. 0.3268\n",
       "185. 0.2151\n",
       "186. 0.369\n",
       "187. 2.5\n",
       "188. 1.5625\n",
       "189. 4.3478\n",
       "190. 0.1337\n",
       "191. 0.1667\n",
       "192. 0.7576\n",
       "193. 0.2525\n",
       "194. 0.1675\n",
       "195. 0.2538\n",
       "196. 0.1812\n",
       "197. 0.1828\n",
       "198. 0.3058\n",
       "199. 0.3185\n",
       "200. 0.6135\n",
       "201. 0.2283\n",
       "202. 0.3802\n",
       "203. 0.4587\n",
       "204. 0.4785\n",
       "205. 0.346\n",
       "206. 0.4065\n",
       "207. 0.5618\n",
       "208. 0.4274\n",
       "209. 0.3279\n",
       "210. 0.237\n",
       "\n",
       "\n"
      ],
      "text/plain": [
       "  [1] 0.2252 0.7194 0.1642 0.2398 0.1880 0.2123 0.1337 0.3401 0.4762 0.2028\n",
       " [11] 0.7407 0.3571 0.3968 0.6803 0.4049 0.2169 1.7241 2.6316 0.2710 0.3571\n",
       " [21] 0.2825 0.4587 2.8571 1.3699 0.3731 1.4925 0.5988 0.4167 3.2258 0.7246\n",
       " [31] 1.1494 1.0101 0.5405 0.4237 0.3367 2.2727 0.5128 0.3584 0.4464 0.5882\n",
       " [41] 0.4367 0.5556 0.7463 0.4032 1.8182 0.3165 0.4049 0.2786 0.6667 0.6369\n",
       " [51] 0.3460 0.5076 0.3584 0.6369 0.3559 0.3021 0.3311 0.3086 1.0638 0.3155\n",
       " [61] 1.7241 0.2273 1.3158 0.4525 2.2222 0.5181 0.2141 0.9346 0.9434 0.3802\n",
       " [71] 0.5882 0.5208 0.7519 0.3448 1.7857 1.5152 0.4386 0.3484 0.2865 2.5641\n",
       " [81] 0.3448 0.4566 1.4286 0.3145 0.2079 0.2342 0.2016 0.1451 0.3086 0.3636\n",
       " [91] 0.3984 1.7857 1.1494 0.2525 0.3497 0.6410 0.4132 0.2179 0.2538 0.3012\n",
       "[101] 1.0870 1.0204 0.3436 0.4717 0.3003 0.3289 0.2915 0.3731 0.7407 0.8696\n",
       "[111] 2.0408 0.4505 3.7037 0.3268 0.4292 0.3623 0.2016 1.1364 0.2119 1.4925\n",
       "[121] 0.2551 0.3003 0.2252 0.8696 0.1718 0.2959 0.2347 0.3268 0.3497 0.2364\n",
       "[131] 0.3623 0.1776 0.2203 0.2222 0.3106 0.1475 0.2899 0.2096 0.1466 0.2404\n",
       "[141] 0.2273 0.3367 0.2188 0.1912 0.5405 0.3636 0.2494 0.3448 0.2128 0.2907\n",
       "[151] 0.4219 4.0000 0.2890 0.1984 0.3311 0.2571 0.3106 0.2179 0.3344 0.5917\n",
       "[161] 0.2415 1.2987 1.2658 0.2421 0.2353 1.1494 0.1724 0.2778 0.1686 0.2020\n",
       "[171] 1.1905 0.2053 0.2146 0.3636 0.2320 0.2959 0.4630 0.3521 0.4065 0.2841\n",
       "[181] 0.3817 0.3497 0.3021 0.3268 0.2151 0.3690 2.5000 1.5625 4.3478 0.1337\n",
       "[191] 0.1667 0.7576 0.2525 0.1675 0.2538 0.1812 0.1828 0.3058 0.3185 0.6135\n",
       "[201] 0.2283 0.3802 0.4587 0.4785 0.3460 0.4065 0.5618 0.4274 0.3279 0.2370"
      ]
     },
     "metadata": {},
     "output_type": "display_data"
    }
   ],
   "source": [
    "y = data$V1\n",
    "y"
   ]
  },
  {
   "cell_type": "code",
   "execution_count": 7,
   "metadata": {},
   "outputs": [
    {
     "data": {
      "image/png": "[encoded data removed]",
      "text/plain": [
       "Plot with title “Distribution of whale data”"
      ]
     },
     "metadata": {},
     "output_type": "display_data"
    }
   ],
   "source": [
    "hist(y,main='Distribution of whale data',xlab='whale',probability = T,col='red',border = \"black\")"
   ]
  },
  {
   "cell_type": "code",
   "execution_count": 8,
   "metadata": {},
   "outputs": [],
   "source": [
    "gamma = rgamma(210, shape=mean(y)/var(y), rate=mean(y)^2/var(y))\n"
   ]
  },
  {
   "cell_type": "code",
   "execution_count": 9,
   "metadata": {},
   "outputs": [
    {
     "data": {
      "image/png": "[encoded data removed]",
      "text/plain": [
       "Plot with title “Distribution of gamma”"
      ]
     },
     "metadata": {},
     "output_type": "display_data"
    }
   ],
   "source": [
    "par(mfrow=c(1,2))\n",
    "hist(y,main='Distribution of whale data',xlab='whale',probability = T,col='red',border = \"black\")\n",
    "hist(gamma,main='Distribution of gamma',xlab='genarated values',probability = T,col='yellow',border = \"black\") "
   ]
  },
  {
   "cell_type": "markdown",
   "metadata": {},
   "source": [
    "## Comments:\n",
    "Yes, Histogram is look like gammma distribution.\n"
   ]
  },
  {
   "cell_type": "markdown",
   "metadata": {},
   "source": [
    "### (b) Fit the parameters of the gamma distribution by the method of moments."
   ]
  },
  {
   "cell_type": "markdown",
   "metadata": {},
   "source": [
    "### Estimating gamma Parameters by Method Of Moments "
   ]
  },
  {
   "cell_type": "code",
   "execution_count": 39,
   "metadata": {},
   "outputs": [
    {
     "data": {
      "text/html": [
       "1.31249131071988"
      ],
      "text/latex": [
       "1.31249131071988"
      ],
      "text/markdown": [
       "1.31249131071988"
      ],
      "text/plain": [
       "[1] 1.312491"
      ]
     },
     "metadata": {},
     "output_type": "display_data"
    },
    {
     "data": {
      "text/html": [
       "0.795368484304523"
      ],
      "text/latex": [
       "0.795368484304523"
      ],
      "text/markdown": [
       "0.795368484304523"
      ],
      "text/plain": [
       "[1] 0.7953685"
      ]
     },
     "metadata": {},
     "output_type": "display_data"
    }
   ],
   "source": [
    "n=length(y)         # sample size     \n",
    "X.bar=mean(y)        #Sample Mean\n",
    "sigma.sq = var(y)   #variance\n",
    "alpha = X.bar/sigma.sq\n",
    "beta = (X.bar)^2/sigma.sq\n",
    "alpha\n",
    "beta"
   ]
  },
  {
   "cell_type": "markdown",
   "metadata": {},
   "source": [
    "### (c) Fit the parameters of the gamma distribution by maximum likelihood. How do these values compare to those found before?\n",
    "\n",
    "### Fit the parameters of the gamma distribution by maximum likelihood"
   ]
  },
  {
   "cell_type": "markdown",
   "metadata": {},
   "source": [
    "![](mle1.png)"
   ]
  },
  {
   "cell_type": "code",
   "execution_count": 40,
   "metadata": {},
   "outputs": [],
   "source": [
    "negative_loglikelihood = function(theta,data)\n",
    "  {\n",
    "    a = theta[1]; b = theta[2]\n",
    "    n = length(data); sumd = sum(data)\n",
    "    sumlogd = sum(log(data))\n",
    "    negative_loglikelihood = n*lgamma(a) + b*sumd -n*a*log(b)-(a-1)*sumlogd\n",
    "    negative_loglikelihood\n",
    "} "
   ]
  },
  {
   "cell_type": "code",
   "execution_count": 41,
   "metadata": {},
   "outputs": [],
   "source": [
    "gammasearch = optim(fn=negative_loglikelihood,par=c(1.13,0.79),data=y)"
   ]
  },
  {
   "cell_type": "code",
   "execution_count": 42,
   "metadata": {},
   "outputs": [
    {
     "data": {
      "text/html": [
       "<ol class=list-inline>\n",
       "\t<li>1.5955738735393</li>\n",
       "\t<li>2.63290434482722</li>\n",
       "</ol>\n"
      ],
      "text/latex": [
       "\\begin{enumerate*}\n",
       "\\item 1.5955738735393\n",
       "\\item 2.63290434482722\n",
       "\\end{enumerate*}\n"
      ],
      "text/markdown": [
       "1. 1.5955738735393\n",
       "2. 2.63290434482722\n",
       "\n",
       "\n"
      ],
      "text/plain": [
       "[1] 1.595574 2.632904"
      ]
     },
     "metadata": {},
     "output_type": "display_data"
    }
   ],
   "source": [
    "gammasearch$par"
   ]
  },
  {
   "cell_type": "markdown",
   "metadata": {},
   "source": [
    "### (d) Plot the two gamma densities on top of the histogram. Do the fits look reasonable?"
   ]
  },
  {
   "cell_type": "code",
   "execution_count": 43,
   "metadata": {},
   "outputs": [],
   "source": [
    "mom.alpha = alpha #alpha of Method of Moments\n",
    "mom.beta = beta   #beta of Method of Moments\n",
    "\n",
    "\n",
    "mle.alpha = 1.5955738735393       #alpha of MLE\n",
    "mle.beta = 2.63290434482722       #beta of MLE"
   ]
  },
  {
   "cell_type": "code",
   "execution_count": 44,
   "metadata": {},
   "outputs": [],
   "source": [
    "x = seq(0,4,0.01)"
   ]
  },
  {
   "cell_type": "code",
   "execution_count": 45,
   "metadata": {},
   "outputs": [],
   "source": [
    "#R function dgamma(x, rate) is the probability of interval x until the αth \n",
    "##successful event when successful events occur with rate \n",
    "\n",
    "mom.gamma = dgamma(x,mom.alpha,mom.beta)\n",
    "mle.gamma = dgamma(x,mle.alpha,mle.beta)\n"
   ]
  },
  {
   "cell_type": "code",
   "execution_count": 86,
   "metadata": {},
   "outputs": [
    {
     "data": {
      "image/png": "[encoded data removed]",
      "text/plain": [
       "Plot with title “Fitted line”"
      ]
     },
     "metadata": {},
     "output_type": "display_data"
    }
   ],
   "source": [
    "hist(y, prob = T,main='Fitted line',col='pink')\n",
    "curve(dgamma(x,mom.alpha,mom.beta), add=T,col='red') #Red fitted line refers Method of moments\n",
    "curve(dgamma(x,mle.alpha,mle.beta), add=T,col='blue') #Blue fitted line refers Maximum likelihood Estimate\n"
   ]
  },
  {
   "cell_type": "markdown",
   "metadata": {},
   "source": [
    "## Comments\n",
    "\n",
    "#### Maximum Likelihood Estimate fits well"
   ]
  },
  {
   "cell_type": "markdown",
   "metadata": {},
   "source": [
    "### (e) Estimate the sampling distributions and the standard errors of the parameters fit by the method of moments by using the bootstrap."
   ]
  },
  {
   "cell_type": "code",
   "execution_count": 51,
   "metadata": {},
   "outputs": [
    {
     "data": {
      "image/png": "[encoded data removed]",
      "text/plain": [
       "Plot with title “Sampling distribution of Beta”"
      ]
     },
     "metadata": {},
     "output_type": "display_data"
    }
   ],
   "source": [
    "B = 1000\n",
    "\n",
    "y = matrix(0,B,210) #creating null matrix\n",
    "\n",
    "\n",
    "alpha.boot = numeric(B)  #creating null vector\n",
    "beta.boot = numeric(B)\n",
    "\n",
    "\n",
    "for(i in 1:B){\n",
    "    y[i,] = sample(data$V1,210,replace=T)\n",
    "    x.bar = mean(y[i,])\n",
    "    sigmasq.hat = var(y[i,]) \n",
    "    ## Method of moments estimates of alpha and beta\n",
    "    alpha.boot[i] = x.bar/sigmasq.hat\n",
    "    beta.boot[i] = x.bar^2/sigmasq.hat\n",
    "}\n",
    "\n",
    "\n",
    "par(mfrow=c(1,2))\n",
    "hist(alpha.boot,probability = T,plot=T,col=\"red\",main= 'Sampling distribution of alpha')\n",
    "hist(beta.boot,probability = T,plot=T,col=\"blue\",main= 'Sampling distribution of Beta')\n"
   ]
  },
  {
   "cell_type": "markdown",
   "metadata": {},
   "source": [
    "#### Sampling distribution of alpha"
   ]
  },
  {
   "cell_type": "code",
   "execution_count": 52,
   "metadata": {},
   "outputs": [
    {
     "data": {
      "text/html": [
       "1.3850692019039"
      ],
      "text/latex": [
       "1.3850692019039"
      ],
      "text/markdown": [
       "1.3850692019039"
      ],
      "text/plain": [
       "[1] 1.385069"
      ]
     },
     "metadata": {},
     "output_type": "display_data"
    },
    {
     "data": {
      "text/html": [
       "0.267398448367169"
      ],
      "text/latex": [
       "0.267398448367169"
      ],
      "text/markdown": [
       "0.267398448367169"
      ],
      "text/plain": [
       "[1] 0.2673984"
      ]
     },
     "metadata": {},
     "output_type": "display_data"
    }
   ],
   "source": [
    "mean.alpha = mean(alpha.boot); sd.alpha = sd(alpha.boot)\n",
    "mean.alpha; sd.alpha"
   ]
  },
  {
   "cell_type": "code",
   "execution_count": 53,
   "metadata": {},
   "outputs": [
    {
     "data": {
      "text/html": [
       "<ol class=list-inline>\n",
       "\t<li>0.860968243104244</li>\n",
       "\t<li>1.90917016070355</li>\n",
       "</ol>\n"
      ],
      "text/latex": [
       "\\begin{enumerate*}\n",
       "\\item 0.860968243104244\n",
       "\\item 1.90917016070355\n",
       "\\end{enumerate*}\n"
      ],
      "text/markdown": [
       "1. 0.860968243104244\n",
       "2. 1.90917016070355\n",
       "\n",
       "\n"
      ],
      "text/plain": [
       "[1] 0.8609682 1.9091702"
      ]
     },
     "metadata": {},
     "output_type": "display_data"
    }
   ],
   "source": [
    "CI <-c(mean.alpha-1.96*sd.alpha,mean.alpha +1.96*sd.alpha)\n",
    "CI"
   ]
  },
  {
   "cell_type": "markdown",
   "metadata": {},
   "source": [
    "#### Sampling distribution of beta"
   ]
  },
  {
   "cell_type": "code",
   "execution_count": 54,
   "metadata": {},
   "outputs": [
    {
     "data": {
      "text/html": [
       "0.832472074023795"
      ],
      "text/latex": [
       "0.832472074023795"
      ],
      "text/markdown": [
       "0.832472074023795"
      ],
      "text/plain": [
       "[1] 0.8324721"
      ]
     },
     "metadata": {},
     "output_type": "display_data"
    },
    {
     "data": {
      "text/html": [
       "0.120156623856966"
      ],
      "text/latex": [
       "0.120156623856966"
      ],
      "text/markdown": [
       "0.120156623856966"
      ],
      "text/plain": [
       "[1] 0.1201566"
      ]
     },
     "metadata": {},
     "output_type": "display_data"
    }
   ],
   "source": [
    "mean.beta = mean(beta.boot); sd.beta = sd(beta.boot)\n",
    "mean.beta; sd.beta"
   ]
  },
  {
   "cell_type": "code",
   "execution_count": 55,
   "metadata": {},
   "outputs": [
    {
     "data": {
      "text/html": [
       "<ol class=list-inline>\n",
       "\t<li>0.59696509126414</li>\n",
       "\t<li>1.06797905678345</li>\n",
       "</ol>\n"
      ],
      "text/latex": [
       "\\begin{enumerate*}\n",
       "\\item 0.59696509126414\n",
       "\\item 1.06797905678345\n",
       "\\end{enumerate*}\n"
      ],
      "text/markdown": [
       "1. 0.59696509126414\n",
       "2. 1.06797905678345\n",
       "\n",
       "\n"
      ],
      "text/plain": [
       "[1] 0.5969651 1.0679791"
      ]
     },
     "metadata": {},
     "output_type": "display_data"
    }
   ],
   "source": [
    "CI <-c(mean.beta-1.96*sd.beta,mean.beta +1.96*sd.beta)\n",
    "CI"
   ]
  },
  {
   "cell_type": "markdown",
   "metadata": {},
   "source": [
    "## (f)  Estimate the sampling distributions and the standard errors of the parameters fit by maximum likelihood by using the bootsrap. How do they compare to the results found previously?"
   ]
  },
  {
   "cell_type": "code",
   "execution_count": 79,
   "metadata": {},
   "outputs": [],
   "source": [
    "options(warn=-1)"
   ]
  },
  {
   "cell_type": "code",
   "execution_count": 81,
   "metadata": {},
   "outputs": [
    {
     "data": {
      "image/png": "[encoded data removed]",
      "text/plain": [
       "Plot with title “Sampling distribution of Beta”"
      ]
     },
     "metadata": {},
     "output_type": "display_data"
    }
   ],
   "source": [
    "library(MASS)\n",
    "alphahatMLEsim <- numeric(1000)\n",
    "lambdahatMLEsim <- numeric(1000)\n",
    "y = matrix(0,1000,210)\n",
    "\n",
    "\n",
    "for (i in 1:1000) {\n",
    "    y[i,] <- sample(data$V1,210,replace=T)\n",
    "## fitting gamma distribution by MLE by using MASS library's fitdistr function\n",
    "    estsMLE <- fitdistr(y[i,],\"gamma\")$estimate\n",
    "    alpha.boot[i] <- estsMLE[\"shape\"]\n",
    "    beta.boot[i] <- estsMLE[\"rate\"]\n",
    "}\n",
    "\n",
    "par(mfrow=c(1,2))\n",
    "hist(alpha.boot,probability = T,plot=T,col=\"red\",main= 'Sampling distribution of alpha')\n",
    "hist(beta.boot,probability = T,plot=T,col=\"blue\",main= 'Sampling distribution of Beta')"
   ]
  },
  {
   "cell_type": "code",
   "execution_count": null,
   "metadata": {},
   "outputs": [],
   "source": []
  },
  {
   "cell_type": "markdown",
   "metadata": {},
   "source": [
    "#### Sampling distribution of alpha"
   ]
  },
  {
   "cell_type": "code",
   "execution_count": 82,
   "metadata": {},
   "outputs": [
    {
     "data": {
      "text/html": [
       "1.62024835672264"
      ],
      "text/latex": [
       "1.62024835672264"
      ],
      "text/markdown": [
       "1.62024835672264"
      ],
      "text/plain": [
       "[1] 1.620248"
      ]
     },
     "metadata": {},
     "output_type": "display_data"
    },
    {
     "data": {
      "text/html": [
       "0.164061621360857"
      ],
      "text/latex": [
       "0.164061621360857"
      ],
      "text/markdown": [
       "0.164061621360857"
      ],
      "text/plain": [
       "[1] 0.1640616"
      ]
     },
     "metadata": {},
     "output_type": "display_data"
    }
   ],
   "source": [
    "mean.alpha = mean(alpha.boot); sd.alpha = sd(alpha.boot)\n",
    "mean.alpha; sd.alpha"
   ]
  },
  {
   "cell_type": "code",
   "execution_count": 83,
   "metadata": {},
   "outputs": [
    {
     "data": {
      "text/html": [
       "<ol class=list-inline>\n",
       "\t<li>1.29868757885536</li>\n",
       "\t<li>1.94180913458992</li>\n",
       "</ol>\n"
      ],
      "text/latex": [
       "\\begin{enumerate*}\n",
       "\\item 1.29868757885536\n",
       "\\item 1.94180913458992\n",
       "\\end{enumerate*}\n"
      ],
      "text/markdown": [
       "1. 1.29868757885536\n",
       "2. 1.94180913458992\n",
       "\n",
       "\n"
      ],
      "text/plain": [
       "[1] 1.298688 1.941809"
      ]
     },
     "metadata": {},
     "output_type": "display_data"
    }
   ],
   "source": [
    "CI <-c(mean.alpha-1.96*sd.alpha,mean.alpha +1.96*sd.alpha)\n",
    "CI"
   ]
  },
  {
   "cell_type": "markdown",
   "metadata": {},
   "source": [
    "#### Sampling distribution of beta"
   ]
  },
  {
   "cell_type": "code",
   "execution_count": 84,
   "metadata": {},
   "outputs": [
    {
     "data": {
      "text/html": [
       "2.70117411615966"
      ],
      "text/latex": [
       "2.70117411615966"
      ],
      "text/markdown": [
       "2.70117411615966"
      ],
      "text/plain": [
       "[1] 2.701174"
      ]
     },
     "metadata": {},
     "output_type": "display_data"
    },
    {
     "data": {
      "text/html": [
       "0.466038371002605"
      ],
      "text/latex": [
       "0.466038371002605"
      ],
      "text/markdown": [
       "0.466038371002605"
      ],
      "text/plain": [
       "[1] 0.4660384"
      ]
     },
     "metadata": {},
     "output_type": "display_data"
    }
   ],
   "source": [
    "mean.beta = mean(beta.boot); sd.beta = sd(beta.boot)\n",
    "mean.beta; sd.beta"
   ]
  },
  {
   "cell_type": "code",
   "execution_count": 85,
   "metadata": {},
   "outputs": [
    {
     "data": {
      "text/html": [
       "<ol class=list-inline>\n",
       "\t<li>1.78773890899455</li>\n",
       "\t<li>3.61460932332477</li>\n",
       "</ol>\n"
      ],
      "text/latex": [
       "\\begin{enumerate*}\n",
       "\\item 1.78773890899455\n",
       "\\item 3.61460932332477\n",
       "\\end{enumerate*}\n"
      ],
      "text/markdown": [
       "1. 1.78773890899455\n",
       "2. 3.61460932332477\n",
       "\n",
       "\n"
      ],
      "text/plain": [
       "[1] 1.787739 3.614609"
      ]
     },
     "metadata": {},
     "output_type": "display_data"
    }
   ],
   "source": [
    "CI <-c(mean.beta-1.96*sd.beta,mean.beta +1.96*sd.beta)\n",
    "CI"
   ]
  }
 ],
 "metadata": {
  "kernelspec": {
   "display_name": "R",
   "language": "R",
   "name": "ir"
  },
  "language_info": {
   "codemirror_mode": "r",
   "file_extension": ".r",
   "mimetype": "text/x-r-source",
   "name": "R",
   "pygments_lexer": "r",
   "version": "3.6.0"
  }
 },
 "nbformat": 4,
 "nbformat_minor": 2
}
